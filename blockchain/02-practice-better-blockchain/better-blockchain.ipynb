{
 "cells": [
  {
   "cell_type": "markdown",
   "metadata": {},
   "source": [
    "dev: mehdi sahraei\n",
    "\n",
    "[my github](https://github.com/mehdisahraeei)"
   ]
  },
  {
   "cell_type": "markdown",
   "metadata": {},
   "source": [
    "### importing libs"
   ]
  },
  {
   "cell_type": "code",
   "execution_count": 400,
   "metadata": {},
   "outputs": [],
   "source": [
    "import hashlib\n",
    "import time\n",
    "import json"
   ]
  },
  {
   "cell_type": "markdown",
   "metadata": {},
   "source": [
    "### implementing block chain"
   ]
  },
  {
   "cell_type": "code",
   "execution_count": 403,
   "metadata": {},
   "outputs": [],
   "source": [
    "import hashlib\n",
    "import json\n",
    "import time\n",
    "\n",
    "class BlockChain:\n",
    "    \n",
    "    def __init__(self):\n",
    "        self.chain = []\n",
    "    \n",
    "    \n",
    "    def creating_new_block(self, user_id, coin_name, value_trx):\n",
    "        if not self.chain: # if len(self.chain) == 0: \n",
    "            print('You should create the first block and do hash default chain ')\n",
    "        else:\n",
    "            new_block = {\n",
    "                'previous_hash': self.hash_block(self.chain[-1]),\n",
    "                'user_id': user_id,\n",
    "                'coin_name': coin_name,\n",
    "                'value_trx': value_trx,\n",
    "                'timestamp': time.time()\n",
    "            }\n",
    "            self.chain.append(new_block)\n",
    "            return new_block\n",
    "    \n",
    "    \n",
    "    def adding_first_block(self, user_id, coin_name, value_trx):\n",
    "        \n",
    "        default_block = {'user_id': user_id,'coin_name': coin_name,\n",
    "                             'value_trx': value_trx,'timestamp': time.time()}    \n",
    "        self.chain.append(default_block)\n",
    "        return default_block\n",
    "    \n",
    "    \n",
    "    def hash_block(self,block):\n",
    "        to_str_ = json.dumps(block, sort_keys=True)\n",
    "        return hashlib.sha256(to_str_.encode()).hexdigest()\n",
    "    \n",
    "    \n",
    "    def last_block(self):\n",
    "        if not self.chain:\n",
    "            return None\n",
    "        return self.chain[-1]\n"
   ]
  },
  {
   "cell_type": "markdown",
   "metadata": {},
   "source": [
    "### adding default block"
   ]
  },
  {
   "cell_type": "code",
   "execution_count": 427,
   "metadata": {
    "scrolled": true
   },
   "outputs": [
    {
     "data": {
      "text/plain": [
       "{'user_id': '15611',\n",
       " 'coin_name': 'btc cash',\n",
       " 'value_trx': '500',\n",
       " 'timestamp': 1690385468.52127}"
      ]
     },
     "execution_count": 427,
     "metadata": {},
     "output_type": "execute_result"
    }
   ],
   "source": [
    "obj = BlockChain()\n",
    "obj.adding_first_block('15611','btc cash','500')"
   ]
  },
  {
   "cell_type": "markdown",
   "metadata": {},
   "source": [
    "### creating next block"
   ]
  },
  {
   "cell_type": "code",
   "execution_count": 428,
   "metadata": {},
   "outputs": [
    {
     "data": {
      "text/plain": [
       "{'previous_hash': '8f1267e948e585a43e86c1127fb5f026ef3a8d620b11273684921dff49e6d248',\n",
       " 'user_id': '62213',\n",
       " 'coin_name': 'btc cash',\n",
       " 'value_trx': '1523',\n",
       " 'timestamp': 1690385469.7214737}"
      ]
     },
     "execution_count": 428,
     "metadata": {},
     "output_type": "execute_result"
    }
   ],
   "source": [
    "obj.creating_new_block('62213','btc cash','1523')"
   ]
  },
  {
   "cell_type": "code",
   "execution_count": 429,
   "metadata": {},
   "outputs": [
    {
     "data": {
      "text/plain": [
       "{'previous_hash': 'c3e74c410ce81cfb0bd33a3b7b1422006caa843da174901f560fa78920f75b2c',\n",
       " 'user_id': '50026',\n",
       " 'coin_name': 'btc cash',\n",
       " 'value_trx': '123',\n",
       " 'timestamp': 1690385471.4949565}"
      ]
     },
     "execution_count": 429,
     "metadata": {},
     "output_type": "execute_result"
    }
   ],
   "source": [
    "obj.creating_new_block('50026','btc cash','123')"
   ]
  },
  {
   "cell_type": "markdown",
   "metadata": {},
   "source": [
    "### observing chains"
   ]
  },
  {
   "cell_type": "code",
   "execution_count": 430,
   "metadata": {},
   "outputs": [
    {
     "data": {
      "text/plain": [
       "[{'user_id': '15611',\n",
       "  'coin_name': 'btc cash',\n",
       "  'value_trx': '500',\n",
       "  'timestamp': 1690385468.52127},\n",
       " {'previous_hash': '8f1267e948e585a43e86c1127fb5f026ef3a8d620b11273684921dff49e6d248',\n",
       "  'user_id': '62213',\n",
       "  'coin_name': 'btc cash',\n",
       "  'value_trx': '1523',\n",
       "  'timestamp': 1690385469.7214737},\n",
       " {'previous_hash': 'c3e74c410ce81cfb0bd33a3b7b1422006caa843da174901f560fa78920f75b2c',\n",
       "  'user_id': '50026',\n",
       "  'coin_name': 'btc cash',\n",
       "  'value_trx': '123',\n",
       "  'timestamp': 1690385471.4949565}]"
      ]
     },
     "execution_count": 430,
     "metadata": {},
     "output_type": "execute_result"
    }
   ],
   "source": [
    "obj.chain[:]"
   ]
  },
  {
   "cell_type": "code",
   "execution_count": 431,
   "metadata": {},
   "outputs": [
    {
     "data": {
      "text/plain": [
       "{'previous_hash': 'c3e74c410ce81cfb0bd33a3b7b1422006caa843da174901f560fa78920f75b2c',\n",
       " 'user_id': '50026',\n",
       " 'coin_name': 'btc cash',\n",
       " 'value_trx': '123',\n",
       " 'timestamp': 1690385471.4949565}"
      ]
     },
     "execution_count": 431,
     "metadata": {},
     "output_type": "execute_result"
    }
   ],
   "source": [
    "obj.last_block()"
   ]
  }
 ],
 "metadata": {
  "kernelspec": {
   "display_name": "Python 3 (ipykernel)",
   "language": "python",
   "name": "python3"
  },
  "language_info": {
   "codemirror_mode": {
    "name": "ipython",
    "version": 3
   },
   "file_extension": ".py",
   "mimetype": "text/x-python",
   "name": "python",
   "nbconvert_exporter": "python",
   "pygments_lexer": "ipython3",
   "version": "3.8.10"
  }
 },
 "nbformat": 4,
 "nbformat_minor": 4
}
