{
 "cells": [
  {
   "cell_type": "markdown",
   "metadata": {},
   "source": [
    "dev: mehdi sahraei\n",
    "\n",
    "[my github](https://github.com/mehdisahraeei)"
   ]
  },
  {
   "cell_type": "markdown",
   "metadata": {},
   "source": [
    "### importing libs"
   ]
  },
  {
   "cell_type": "code",
   "execution_count": 1,
   "metadata": {},
   "outputs": [],
   "source": [
    "import hashlib\n",
    "import time\n",
    "import json"
   ]
  },
  {
   "cell_type": "markdown",
   "metadata": {},
   "source": [
    "### class block chain"
   ]
  },
  {
   "cell_type": "code",
   "execution_count": 20,
   "metadata": {},
   "outputs": [],
   "source": [
    "import hashlib\n",
    "import time\n",
    "import json\n",
    "\n",
    "\n",
    "class BlockChain:\n",
    "    \n",
    "    def __init__(self):\n",
    "        self.hashs = []\n",
    "        self.chain = []\n",
    "    \n",
    "    \n",
    "    def create_block(self, user_id, coin_name, value_trx):\n",
    "        if len(self.hashs) == 0:\n",
    "             print('you should do hash first block')\n",
    "        else:\n",
    "            \n",
    "            new_block = {'previous hash':self.hashs[-1] ,'user id':user_id,\n",
    "                           'coin name':coin_name,'value trx':value_trx,'timestamp':time.time()}\n",
    "            self.chain.append(new_block)  \n",
    "#             return new_block\n",
    "    \n",
    "    \n",
    "    \n",
    "    def add_block(self, user_id, coin_name, value_trx):\n",
    "        default_block = {'user id':user_id,\n",
    "                       'coin name':coin_name,'value trx':value_trx,'timestamp':time.time()}\n",
    "        self.chain.append(default_block)\n",
    "        \n",
    "        return default_block\n",
    "    \n",
    "    \n",
    "    def hash_block(self, whichblock):\n",
    "        if whichblock == 'def':  # Default block\n",
    "            to_str_ = json.dumps(self.chain[0])\n",
    "            first_hash = hashlib.sha256(to_str_.encode()).hexdigest()\n",
    "            self.hashs.append([first_hash])\n",
    "            return first_hash\n",
    "        \n",
    "        elif whichblock == 'next':  # Second block\n",
    "            to_str_ = json.dumps(self.chain[-1])\n",
    "            next_hash = hashlib.sha256(to_str_.encode()).hexdigest()\n",
    "            self.hashs.append([next_hash])\n",
    "            return next_hash\n",
    "        \n",
    "        else:\n",
    "            return None\n",
    "    \n",
    "    \n",
    "    \n",
    "    def last_block(self):\n",
    "        x = self.chain[-1]\n",
    "        return x\n",
    "    \n",
    "    "
   ]
  },
  {
   "cell_type": "markdown",
   "metadata": {},
   "source": [
    "### adding default block"
   ]
  },
  {
   "cell_type": "code",
   "execution_count": 51,
   "metadata": {},
   "outputs": [
    {
     "data": {
      "text/plain": [
       "{'user id': 1452,\n",
       " 'coin name': 'btc',\n",
       " 'value trx': '2 btc',\n",
       " 'timestamp': 1690384126.617397}"
      ]
     },
     "execution_count": 51,
     "metadata": {},
     "output_type": "execute_result"
    }
   ],
   "source": [
    "obj = BlockChain()\n",
    "obj.add_block(1452,'btc','2 btc')"
   ]
  },
  {
   "cell_type": "markdown",
   "metadata": {},
   "source": [
    "### hashing"
   ]
  },
  {
   "cell_type": "code",
   "execution_count": 52,
   "metadata": {},
   "outputs": [
    {
     "data": {
      "text/plain": [
       "'cd9277387b545103f9e3142188dba01a1b0a1eea85dbc74a269f6f6855151145'"
      ]
     },
     "execution_count": 52,
     "metadata": {},
     "output_type": "execute_result"
    }
   ],
   "source": [
    "obj.hash_block('def')"
   ]
  },
  {
   "cell_type": "code",
   "execution_count": 53,
   "metadata": {},
   "outputs": [
    {
     "data": {
      "text/plain": [
       "[{'user id': 1452,\n",
       "  'coin name': 'btc',\n",
       "  'value trx': '2 btc',\n",
       "  'timestamp': 1690384126.617397}]"
      ]
     },
     "execution_count": 53,
     "metadata": {},
     "output_type": "execute_result"
    }
   ],
   "source": [
    "obj.chain[:]"
   ]
  },
  {
   "cell_type": "markdown",
   "metadata": {},
   "source": [
    "### creating next block"
   ]
  },
  {
   "cell_type": "code",
   "execution_count": 54,
   "metadata": {},
   "outputs": [
    {
     "data": {
      "text/plain": [
       "'6e0615728bcc6cb2dc3dfeb35fa909397797f52514d0deaa37ba2840efaad06a'"
      ]
     },
     "execution_count": 54,
     "metadata": {},
     "output_type": "execute_result"
    }
   ],
   "source": [
    "obj.create_block('5613','Eth','50 Eth')\n",
    "obj.hash_block('next')"
   ]
  },
  {
   "cell_type": "code",
   "execution_count": 55,
   "metadata": {},
   "outputs": [],
   "source": [
    "obj.create_block('4239','Eth','6 Eth')\n",
    "# obj.hash_block('next')"
   ]
  },
  {
   "cell_type": "markdown",
   "metadata": {},
   "source": [
    "### observing chains"
   ]
  },
  {
   "cell_type": "code",
   "execution_count": 56,
   "metadata": {},
   "outputs": [
    {
     "data": {
      "text/plain": [
       "[{'user id': 1452,\n",
       "  'coin name': 'btc',\n",
       "  'value trx': '2 btc',\n",
       "  'timestamp': 1690384126.617397},\n",
       " {'previous hash': ['cd9277387b545103f9e3142188dba01a1b0a1eea85dbc74a269f6f6855151145'],\n",
       "  'user id': '5613',\n",
       "  'coin name': 'Eth',\n",
       "  'value trx': '50 Eth',\n",
       "  'timestamp': 1690384130.0115478},\n",
       " {'previous hash': ['6e0615728bcc6cb2dc3dfeb35fa909397797f52514d0deaa37ba2840efaad06a'],\n",
       "  'user id': '4239',\n",
       "  'coin name': 'Eth',\n",
       "  'value trx': '6 Eth',\n",
       "  'timestamp': 1690384131.5676885}]"
      ]
     },
     "execution_count": 56,
     "metadata": {},
     "output_type": "execute_result"
    }
   ],
   "source": [
    "obj.chain[:]"
   ]
  }
 ],
 "metadata": {
  "kernelspec": {
   "display_name": "Python 3 (ipykernel)",
   "language": "python",
   "name": "python3"
  },
  "language_info": {
   "codemirror_mode": {
    "name": "ipython",
    "version": 3
   },
   "file_extension": ".py",
   "mimetype": "text/x-python",
   "name": "python",
   "nbconvert_exporter": "python",
   "pygments_lexer": "ipython3",
   "version": "3.8.10"
  }
 },
 "nbformat": 4,
 "nbformat_minor": 4
}
